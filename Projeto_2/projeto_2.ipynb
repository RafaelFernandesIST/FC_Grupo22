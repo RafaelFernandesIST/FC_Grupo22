{
 "cells": [
  {
   "cell_type": "code",
   "execution_count": 3,
   "id": "32a61cde",
   "metadata": {},
   "outputs": [],
   "source": [
    "import numpy as np\n",
    "import matplotlib.pyplot as plt\n",
    "import scipy"
   ]
  },
  {
   "cell_type": "code",
   "execution_count": null,
   "id": "f9d5365a",
   "metadata": {},
   "outputs": [],
   "source": [
    "class Coupled_Oscillators:\n",
    "    def __init__(self, N, m = 1.0, k_springs = 1.0, left_wall_k=0.0, right_wall_k=0.0):\n",
    "          \n",
    "        self.N=N\n",
    "        self.M = self._build_mass_matrix(m)\n",
    "        self.K = self._build_K_matrix(k_springs, left_wall_k, right_wall_k)\n",
    "\n",
    "def _build_mass_matrix(self, m):\n",
    "\n",
    "    if isinstance(m, (int, float)):  # todas as massas iguais\n",
    "        masses = np.full(self.N, m)\n",
    "    elif isinstance(m, (list, np.ndarray)) and len(m) == self.N:\n",
    "        masses = np.array(m)\n",
    "    else:\n",
    "        raise ValueError(\"m deve ser um float ou um array com dimensão N\")\n",
    "\n",
    "    M = np.diag(masses)\n",
    "    return M\n",
    "\n",
    "def _build_K_matrix(self, k_springs, left_wall_k, right_wall_k):\n",
    "\n",
    "        N = self.N\n",
    "\n",
    "        # Verifica tipo de k_springs\n",
    "        if isinstance(k_springs, (int, float)):\n",
    "            k_array = np.full(N - 1, k_springs)\n",
    "        elif isinstance(k_springs, (list, np.ndarray)) and len(k_springs) == N - 1:\n",
    "            k_array = np.array(k_springs)\n",
    "        else:\n",
    "            raise ValueError(\"k_springs deve ser float ou array com N-1 elementos\")\n",
    "\n",
    "        # Inicializa matriz K\n",
    "        K = np.zeros((N, N))\n",
    "\n",
    "        # Preenche matriz com ligações entre massas\n",
    "        for i in range(N - 1):\n",
    "            K[i, i] += k_array[i]\n",
    "            K[i + 1, i + 1] += k_array[i]\n",
    "            K[i, i + 1] -= k_array[i]\n",
    "            K[i + 1, i] -= k_array[i]\n",
    "\n",
    "        # Ligações às paredes\n",
    "        K[0, 0] += left_wall_k\n",
    "        K[N - 1, N - 1] += right_wall_k\n",
    "\n",
    "        return K\n",
    "\n",
    "\n",
    "def solve_coupled_system_linear(self, x0=None, v0=None, t_max=50, num_points=1000):\n",
    "\n",
    "    return sol.t, sol.u, sol_euler.t, sol_euler_u\n",
    "    "
   ]
  }
 ],
 "metadata": {
  "kernelspec": {
   "display_name": "Python 3",
   "language": "python",
   "name": "python3"
  },
  "language_info": {
   "codemirror_mode": {
    "name": "ipython",
    "version": 3
   },
   "file_extension": ".py",
   "mimetype": "text/x-python",
   "name": "python",
   "nbconvert_exporter": "python",
   "pygments_lexer": "ipython3",
   "version": "3.11.9"
  }
 },
 "nbformat": 4,
 "nbformat_minor": 5
}

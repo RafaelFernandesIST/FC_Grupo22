{
 "cells": [
  {
   "cell_type": "code",
   "execution_count": 4,
   "id": "32a61cde",
   "metadata": {},
   "outputs": [],
   "source": [
    "import numpy as np\n",
    "import matplotlib.pyplot as plt\n",
    "from scipy.integrate import solve_ivp"
   ]
  },
  {
   "cell_type": "code",
   "execution_count": 5,
   "id": "f9d5365a",
   "metadata": {},
   "outputs": [],
   "source": [
    "class Coupled_Oscillators:\n",
    "    def __init__(self, N, m = 1.0, k_springs = 1.0, left_wall_k=0.0, right_wall_k=0.0):\n",
    "\n",
    "        \"\"\"Inicializa sistema com N massas e N-1 molas (mais molas opcionais nas paredes).\n",
    "        Args:\n",
    "        N (int): number of masses\n",
    "        m (float ou array): massa de cada oscilador; se um único valor, aplica-se a todas as massas\n",
    "        k_springs (float ou array): N-1 constantes das molas between; se um único valor, aplica-se a todas as molas\n",
    "        left_wall_k (float): constante da mola na parede esquerda\n",
    "        right_wall_k (float): constante da mola na parede direita\"\"\"\n",
    "          \n",
    "        self.N=N\n",
    "        self.M = self._build_mass_matrix(m)\n",
    "        self.K = self._build_K_matrix(k_springs, left_wall_k, right_wall_k)\n",
    "\n",
    "    def _build_mass_matrix(self, m):\n",
    "\n",
    "        if isinstance(m, (int, float)):  \n",
    "            # se um único valor, aplica-se a todas as massas\n",
    "            masses = np.full(self.N, m)\n",
    "        elif isinstance(m, (list, np.ndarray)) and len(m) == self.N:\n",
    "            masses = np.array(m)\n",
    "        else:\n",
    "            raise ValueError(\"m deve ser um float ou um array de N entradas\")\n",
    "        \n",
    "        return np.diag(masses)\n",
    "\n",
    "    def _build_K_matrix(self, k_springs, left_wall_k, right_wall_k):\n",
    "\n",
    "            N = self.N\n",
    "            if isinstance(k_springs, (int, float)):\n",
    "                k_array = np.full(N - 1, k_springs)\n",
    "            elif isinstance(k_springs, (list, np.ndarray)) and len(k_springs) == N - 1:\n",
    "                k_array = np.array(k_springs)\n",
    "            else:\n",
    "                raise ValueError(\"k_springs deve ser float ou array de N-1 entradas\")\n",
    "\n",
    "            # Inicializa matriz K\n",
    "            K = np.zeros((N, N))\n",
    "\n",
    "            # Preenche matriz com ligações entre massas\n",
    "            for i in range(N - 1):\n",
    "                K[i, i] += k_array[i]\n",
    "                K[i + 1, i + 1] += k_array[i]\n",
    "                K[i, i + 1] -= k_array[i]\n",
    "                K[i + 1, i] -= k_array[i]\n",
    "\n",
    "            # Ligações às paredes\n",
    "            K[0, 0] += left_wall_k\n",
    "            K[N - 1, N - 1] += right_wall_k\n",
    "\n",
    "            return K\n",
    "\n",
    "\n",
    "    def solve_coupled_system_linear(self, x0=None, v0=None, t_max=50, num_points=1000):\n",
    "\n",
    "        return sol.t, sol.u, sol_euler.t, sol_euler_u\n",
    "        "
   ]
  },
  {
   "cell_type": "markdown",
   "id": "46aa73c6",
   "metadata": {},
   "source": [
    "**2. Simulação**"
   ]
  },
  {
   "cell_type": "markdown",
   "id": "6135c4d1",
   "metadata": {},
   "source": [
    "**a)** O método solve_couple_system_linear contém já as soluções para o método do scipy.integrate e o método de Euler. Assim, para comparar os dois métodos, é necessário apenas fazer a simulação uma vez, e separar, para cada massa, a solução com cada método."
   ]
  },
  {
   "cell_type": "code",
   "execution_count": 8,
   "id": "cd45387d",
   "metadata": {},
   "outputs": [
    {
     "ename": "NameError",
     "evalue": "name 'sol' is not defined",
     "output_type": "error",
     "traceback": [
      "\u001b[31m---------------------------------------------------------------------------\u001b[39m",
      "\u001b[31mNameError\u001b[39m                                 Traceback (most recent call last)",
      "\u001b[36mCell\u001b[39m\u001b[36m \u001b[39m\u001b[32mIn[8]\u001b[39m\u001b[32m, line 15\u001b[39m\n\u001b[32m     12\u001b[39m v0 = np.zeros(\u001b[32m5\u001b[39m)\n\u001b[32m     14\u001b[39m \u001b[38;5;66;03m#Resolver o sistema\u001b[39;00m\n\u001b[32m---> \u001b[39m\u001b[32m15\u001b[39m sol = \u001b[43moscillator\u001b[49m\u001b[43m.\u001b[49m\u001b[43msolve_coupled_system_linear\u001b[49m\u001b[43m(\u001b[49m\u001b[43mx0\u001b[49m\u001b[43m,\u001b[49m\u001b[43m \u001b[49m\u001b[43mv0\u001b[49m\u001b[43m)\u001b[49m\n\u001b[32m     17\u001b[39m \u001b[38;5;66;03m#Soluções pelo método do scipy.integrate\u001b[39;00m\n\u001b[32m     18\u001b[39m X = sol[\u001b[32m0\u001b[39m]\n",
      "\u001b[36mCell\u001b[39m\u001b[36m \u001b[39m\u001b[32mIn[5]\u001b[39m\u001b[32m, line 51\u001b[39m, in \u001b[36mCoupled_Oscillators.solve_coupled_system_linear\u001b[39m\u001b[34m(self, x0, v0, t_max, num_points)\u001b[39m\n\u001b[32m     49\u001b[39m \u001b[38;5;28;01mdef\u001b[39;00m\u001b[38;5;250m \u001b[39m\u001b[34msolve_coupled_system_linear\u001b[39m(\u001b[38;5;28mself\u001b[39m, x0=\u001b[38;5;28;01mNone\u001b[39;00m, v0=\u001b[38;5;28;01mNone\u001b[39;00m, t_max=\u001b[32m50\u001b[39m, num_points=\u001b[32m1000\u001b[39m):\n\u001b[32m---> \u001b[39m\u001b[32m51\u001b[39m     \u001b[38;5;28;01mreturn\u001b[39;00m \u001b[43msol\u001b[49m.t, sol.u, sol_euler.t, sol_euler_u\n",
      "\u001b[31mNameError\u001b[39m: name 'sol' is not defined"
     ]
    }
   ],
   "source": [
    "#Definir variáveis importantes\n",
    "m = 1\n",
    "k = 1\n",
    "n = 5\n",
    "delta_x = 0.1\n",
    "\n",
    "#Declaração da classe\n",
    "oscillator = Coupled_Oscillators(n, m, k, k, k)\n",
    "\n",
    "#Definir condições iniciais\n",
    "x0 = np.array([0, 0, delta_x, 0, 0])\n",
    "v0 = np.zeros(5)\n",
    "\n",
    "#Resolver o sistema\n",
    "sol = oscillator.solve_coupled_system_linear(x0, v0)\n",
    "\n",
    "#Soluções pelo método do scipy.integrate\n",
    "X = sol[0]\n",
    "Y = sol[1]\n",
    "\n",
    "#Soluções pelo método de Euler\n",
    "euler_X = sol[3]\n",
    "euler_Y = sol[4]\n",
    "\n",
    "#Gráficos\n",
    "fig, axes = plt.subplots(5, 1, figsize=(12, 16))\n",
    "for i in enumerate(X):\n",
    "    ax = ax[i, 0]\n",
    "    ax.plot(X[i], Y[i], label = 'Normal integrate')\n",
    "    ax.plot(euler_X[i], euler_Y[i], label = 'Euler integrate')\n",
    "    ax.set_title(f'Massa nº{i}')\n",
    "    ax.set_xlabel('Tempo (s)')\n",
    "    ax.set_ylabel('Posição (m)')\n",
    "    ax.grid(True)\n",
    "\n",
    "plt.tight_layout()\n",
    "plt.show()\n"
   ]
  }
 ],
 "metadata": {
  "kernelspec": {
   "display_name": ".venv",
   "language": "python",
   "name": "python3"
  },
  "language_info": {
   "codemirror_mode": {
    "name": "ipython",
    "version": 3
   },
   "file_extension": ".py",
   "mimetype": "text/x-python",
   "name": "python",
   "nbconvert_exporter": "python",
   "pygments_lexer": "ipython3",
<<<<<<< HEAD
   "version": "3.12.0"
=======
   "version": "3.13.2"
>>>>>>> a30148480e2030f2a1dc2e20ef97ab985a023e5c
  }
 },
 "nbformat": 4,
 "nbformat_minor": 5
}

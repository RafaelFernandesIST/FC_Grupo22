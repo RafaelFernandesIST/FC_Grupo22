{
 "cells": [
  {
   "cell_type": "code",
   "execution_count": 4,
   "id": "32a61cde",
   "metadata": {},
   "outputs": [],
   "source": [
    "import numpy as np\n",
    "import matplotlib.pyplot as plt\n",
    "from scipy.integrate import solve_ivp"
   ]
  },
  {
   "cell_type": "code",
   "execution_count": null,
   "id": "f9d5365a",
   "metadata": {},
   "outputs": [],
   "source": [
    "class Coupled_Oscillators:\n",
    "    def __init__(self, N, m = 1.0, k_springs = 1.0, left_wall_k=0.0, right_wall_k=0.0):\n",
    "\n",
    "        \"\"\"Inicializa sistema com N massas e N-1 molas (mais molas opcionais nas paredes).\n",
    "        Args:\n",
    "        N (int): number of masses\n",
    "        m (float ou array): massa de cada oscilador; se um único valor, aplica-se a todas as massas\n",
    "        k_springs (float ou array): N-1 constantes das molas between; se um único valor, aplica-se a todas as molas\n",
    "        left_wall_k (float): constante da mola na parede esquerda\n",
    "        right_wall_k (float): constante da mola na parede direita\"\"\"\n",
    "          \n",
    "        self.N=N\n",
    "        self.M = self._build_mass_matrix(m)\n",
    "        self.K = self._build_K_matrix(k_springs, left_wall_k, right_wall_k)\n",
    "\n",
    "    def _build_mass_matrix(self, m):\n",
    "\n",
    "        if isinstance(m, (int, float)):  \n",
    "            # se um único valor, aplica-se a todas as massas\n",
    "            masses = np.full(self.N, m)\n",
    "        elif isinstance(m, (list, np.ndarray)) and len(m) == self.N:\n",
    "            masses = np.array(m)\n",
    "        else:\n",
    "            raise ValueError(\"m deve ser um float ou um array de N entradas\")\n",
    "        \n",
    "        return np.diag(masses)\n",
    "\n",
    "    def _build_K_matrix(self, k_springs, left_wall_k, right_wall_k):\n",
    "\n",
    "            N = self.N\n",
    "            if isinstance(k_springs, (int, float)):\n",
    "                k_array = np.full(N - 1, k_springs)\n",
    "            elif isinstance(k_springs, (list, np.ndarray)) and len(k_springs) == N - 1:\n",
    "                k_array = np.array(k_springs)\n",
    "            else:\n",
    "                raise ValueError(\"k_springs deve ser float ou array de N-1 entradas\")\n",
    "\n",
    "            # Inicializa matriz K\n",
    "            K = np.zeros((N, N))\n",
    "\n",
    "            # Preenche matriz com ligações entre massas\n",
    "            for i in range(N - 1):\n",
    "                K[i, i] += k_array[i]\n",
    "                K[i + 1, i + 1] += k_array[i]\n",
    "                K[i, i + 1] -= k_array[i]\n",
    "                K[i + 1, i] -= k_array[i]\n",
    "\n",
    "            # Ligações às paredes\n",
    "            K[0, 0] += left_wall_k\n",
    "            K[N - 1, N - 1] += right_wall_k\n",
    "\n",
    "            return K\n",
    "\n",
    "\n",
    "    def solve_coupled_system_linear(self, x0=None, v0=None, t_max=50, num_points=1000):\n",
    "    # x0: posicoes iniciais\n",
    "    # v0: velocidades iniciais\n",
    "    # t_max: tempo final da simula¸c~ao\n",
    "    # num_points: passo a condiderar na resolu¸c~ao das equa¸c~oes\n",
    "    # deve retornar os tempos em que foi calculada a solu¸c~ao, e as posicoes e velocidades para cada tempo (ambas contidas em u)\n",
    "    # deve retornar os resultados obtidos pelo m´etodo de Euler e pelo m´etodo do numpy\n",
    "    # alternativamnte pode ser criado um m´etodo para a solu¸c~ao por Euler e outro para numpy\n",
    "        return sol.t, sol.u, sol_euler.t, sol_euler_u\n"
   ]
  },
  {
   "cell_type": "markdown",
   "id": "c2cdf108",
   "metadata": {},
   "source": [
    "### Exercício 2."
   ]
  },
  {
   "cell_type": "code",
   "execution_count": null,
   "id": "189adde8",
   "metadata": {},
   "outputs": [],
   "source": [
    "'''Todas as massas iguais a 1.0 [kg], e todas as molas de constante k = 1.0 [N/m]'''\n",
    "osc = Coupled_Oscillators(N=5, m=1.0, k_springs=1.0, left_wall_k=1.0, right_wall_k=1.0)\n",
    "\n",
    "'''Condição inicial: só massa central deslocada'''\n",
    "x0 = np.array([0.0, 0.0, 1.0, 0.0, 0.0])\n",
    "v0 = np.zeros(5)\n",
    "\n",
    "'''Resolver o sistema para estas condições iniciais'''\n",
    "t, sol_scipy, sol_euler = osc.solve_coupled_system_linear(x0=x0, v0=v0, t_max=50, num_points=1000)\n",
    "\n",
    "'''Plot dos gráficos'''\n",
    "for i in range(5):\n",
    "    plt.plot(t, sol_scipy[i], label=f'm{i+1} scipy')\n",
    "    plt.plot(t, sol_euler[i], '--', label=f'm{i+1} Euler')\n",
    "\n",
    "plt.title(\"Posições das massas ao longo do tempo\")\n",
    "plt.xlabel(\"Tempo\")\n",
    "plt.ylabel(\"Posição\")\n",
    "plt.legend()\n",
    "plt.grid()\n",
    "plt.show()"
   ]
  }
 ],
 "metadata": {
  "kernelspec": {
   "display_name": "Python 3",
   "language": "python",
   "name": "python3"
  },
  "language_info": {
   "codemirror_mode": {
    "name": "ipython",
    "version": 3
   },
   "file_extension": ".py",
   "mimetype": "text/x-python",
   "name": "python",
   "nbconvert_exporter": "python",
   "pygments_lexer": "ipython3",
   "version": "3.13.2"
  }
 },
 "nbformat": 4,
 "nbformat_minor": 5
}

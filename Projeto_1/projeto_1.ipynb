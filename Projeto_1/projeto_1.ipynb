{
 "cells": [
  {
   "cell_type": "code",
   "execution_count": null,
   "id": "b3756ad8",
   "metadata": {},
   "outputs": [],
   "source": [
    "import numpy as np\n",
    "import matplotlib.pyplot as plt\n",
    "from tqdm import tqdm\n",
    "from scipy.optimize import curve_fit\n",
    "from scipy.integrate import cumulative_trapezoid\n",
    "from scipy.interpolate import CubicSpline"
   ]
  },
  {
   "cell_type": "code",
   "execution_count": null,
   "id": "a9e6b6ee",
   "metadata": {},
   "outputs": [],
   "source": [
    "class IsingModel:\n",
    "    def __init__(self, L, T):\n",
    "        #parametros do modelo\n",
    "        self.L = L\n",
    "        self.T = T\n",
    "\n",
    "        #array com os spins\n",
    "        self.spins = np.ones((L,L))\n",
    "\n",
    "        #arrays para guardar evoluções das variáveis\n",
    "        self.energies= []\n",
    "        self.magnetizations= []\n",
    "\n",
    "    def calc_ener_spin(self, i, j):\n",
    "\n",
    "        return energy"
   ]
  },
  {
   "cell_type": "markdown",
   "id": "ad457815",
   "metadata": {},
   "source": [
    "## 1. Tempo de Termalização"
   ]
  },
  {
   "cell_type": "markdown",
   "id": "7deccd52",
   "metadata": {},
   "source": [
    "## 2. Determinação da Temperatura Crítica"
   ]
  },
  {
   "cell_type": "markdown",
   "id": "21fbbf54",
   "metadata": {},
   "source": [
    "## 3. Determinação da Energia Livre de Helmholtz, F"
   ]
  }
 ],
 "metadata": {
  "kernelspec": {
   "display_name": "Python 3",
   "language": "python",
   "name": "python3"
  },
  "language_info": {
   "codemirror_mode": {
    "name": "ipython",
    "version": 3
   },
   "file_extension": ".py",
   "mimetype": "text/x-python",
   "name": "python",
   "nbconvert_exporter": "python",
   "pygments_lexer": "ipython3",
   "version": "3.11.9"
  }
 },
 "nbformat": 4,
 "nbformat_minor": 5
}

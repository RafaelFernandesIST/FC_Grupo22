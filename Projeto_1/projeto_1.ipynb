{
 "cells": [
  {
   "cell_type": "code",
   "execution_count": 3,
   "id": "b3756ad8",
   "metadata": {},
   "outputs": [],
   "source": [
    "import numpy as np\n",
    "import matplotlib.pyplot as plt\n",
    "from tqdm import tqdm\n",
    "from scipy.optimize import curve_fit\n",
    "from scipy.integrate import cumulative_trapezoid\n",
    "from scipy.interpolate import CubicSpline"
   ]
  },
  {
   "cell_type": "code",
   "execution_count": null,
   "id": "a9e6b6ee",
   "metadata": {},
   "outputs": [
    {
     "ename": "IndentationError",
     "evalue": "expected an indented block after 'for' statement on line 48 (1192968361.py, line 50)",
     "output_type": "error",
     "traceback": [
      "  \u001b[36mCell\u001b[39m\u001b[36m \u001b[39m\u001b[32mIn[4]\u001b[39m\u001b[32m, line 50\u001b[39m\n\u001b[31m    \u001b[39m\u001b[31m@property\u001b[39m\n    ^\n\u001b[31mIndentationError\u001b[39m\u001b[31m:\u001b[39m expected an indented block after 'for' statement on line 48\n"
     ]
    }
   ],
   "source": [
    "class IsingModel:\n",
    "    def __init__(self, L, T):\n",
    "        #parametros do modelo\n",
    "        self.L = L\n",
    "        self.T = T\n",
    "\n",
    "        #array com os spins\n",
    "        self.spins = np.ones((L,L))\n",
    "\n",
    "        #arrays para guardar evoluções das variáveis\n",
    "        self.energies= []\n",
    "        self.magnetizations= [-L**2]\n",
    "\n",
    "        #energia e magnetização total\n",
    "        self.energy_total = self.calc_ener_total()\n",
    "        self.magnet_total = np.sum(self.spins)\n",
    "\n",
    "    def calc_ener_spin(self, i, j):\n",
    "        #calcular a energia de um spin\n",
    "        spin= self.spins[i,j]\n",
    "        neighbours= (\n",
    "        self.spins[(i+1)%self.L, j] + \n",
    "        self.spins[i, (j+1)%self.L] + \n",
    "        self.spins[(i-1)%self.L, j] + \n",
    "        self.spins[i, (j-1)%self.L]\n",
    "        )\n",
    "        energy=-spin*neighbours\n",
    "        return energy\n",
    "    \n",
    "    def calc_ener_total( self ):\n",
    "        energy=0\n",
    "        for i in range(self.L):\n",
    "            for j in range(self.L):\n",
    "                energy+= -self.spins[i,j]*(self.spins[(i+1)%self.L,j]+ self.spins[i,(j+1)%self.L])\n",
    "        return energy\n",
    "    \n",
    "    def calc_ener ( self ):\n",
    "        energy=self.energy_total/self.L**2\n",
    "\n",
    "        return energy\n",
    "    \n",
    "    def calc_mag( self ):\n",
    "        mag = self.magnet_total\n",
    "        return mag\n",
    "    \n",
    "    def iter_monte_carlo ( self, n_iter ):\n",
    "\n",
    "        for i in tqdm (range(n_iter), desc=f\"L={self.L:6d}, T={self.T:8f}\"):\n",
    "    \n",
    "    @property\n",
    "    def energy(self):\n",
    "        return np.array(self.energies)\n",
    "    \n"
   ]
  },
  {
   "cell_type": "markdown",
   "id": "ad457815",
   "metadata": {},
   "source": [
    "## 1. Tempo de Termalização"
   ]
  },
  {
   "cell_type": "markdown",
   "id": "7deccd52",
   "metadata": {},
   "source": [
    "## 2. Determinação da Temperatura Crítica"
   ]
  },
  {
   "cell_type": "markdown",
   "id": "21fbbf54",
   "metadata": {},
   "source": [
    "## 3. Determinação da Energia Livre de Helmholtz, F"
   ]
  }
 ],
 "metadata": {
  "kernelspec": {
   "display_name": "Python 3",
   "language": "python",
   "name": "python3"
  },
  "language_info": {
   "codemirror_mode": {
    "name": "ipython",
    "version": 3
   },
   "file_extension": ".py",
   "mimetype": "text/x-python",
   "name": "python",
   "nbconvert_exporter": "python",
   "pygments_lexer": "ipython3",
   "version": "3.11.9"
  }
 },
 "nbformat": 4,
 "nbformat_minor": 5
}

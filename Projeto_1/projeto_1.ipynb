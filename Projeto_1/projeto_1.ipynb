{
 "cells": [
  {
   "cell_type": "code",
   "execution_count": null,
   "id": "b3756ad8",
   "metadata": {},
   "outputs": [],
   "source": [
    "import numpy as np\n",
    "import matplotlib.pyplot as plt\n",
    "from tqdm import tqdm\n",
    "from scipy.optimize import curve_fit\n",
    "from scipy.integrate import cumulative_trapezoid\n",
    "from scipy.interpolate import CubicSpline"
   ]
  },
  {
   "cell_type": "code",
   "execution_count": null,
   "id": "a9e6b6ee",
   "metadata": {},
   "outputs": [],
   "source": [
    "class IsingModel:\n",
    "    def __init__(self, L, T):\n",
    "        #parametros do modelo\n",
    "        self.L = L\n",
    "        self.T = T\n",
    "\n",
    "        #array com os spins\n",
    "        self.spins = np.ones((L,L))\n",
    "\n",
    "        #arrays para guardar evoluções das variáveis\n",
    "        self.energies= []\n",
    "        self.magnetizations= [-L**2]\n",
    "\n",
    "        #energia e magnetização total\n",
    "        self.energy_total = self.calc_ener_total()\n",
    "        self.magnet_total = np.sum(self.spins)\n",
    "\n",
    "    def calc_ener_spin(self, i, j):\n",
    "        #calcular a energia de um spin\n",
    "        spin= self.spins[i,j]\n",
    "        neighbours= (\n",
    "        self.spins[(i+1)%self.L, j] + \n",
    "        self.spins[i, (j+1)%self.L] + \n",
    "        self.spins[(i-1)%self.L, j] + \n",
    "        self.spins[i, (j-1)%self.L]\n",
    "        )\n",
    "        energy=-spin*neighbours\n",
    "        return energy\n",
    "    \n",
    "    def calc_ener_total( self ):\n",
    "        energy=0\n",
    "        for i in range(self.L):\n",
    "            for j in range(self.L):\n",
    "                energy+= -self.spins[i,j]*(self.spins[(i+1)%self.L,j]+ self.spins[i,(j+1)%self.L])\n",
    "        return energy\n",
    "    \n",
    "    def calc_ener ( self ):\n",
    "        energy=self.energy_total/self.L**2\n",
    "\n",
    "        return energy\n",
    "    \n",
    "    def calc_mag( self ):\n",
    "        mag = self.magnet_total\n",
    "        return mag\n",
    "    \n",
    "    def iter_monte_carlo ( self, n_iter ):\n",
    "\n",
    "        for i in tqdm (range(n_iter), desc=f\"L={self.L:6d}, T={self.T:8f}\"):\n",
    "    \n",
    "    @property\n",
    "    def energy(self):\n",
    "        return np.array(self.energies)\n",
    "    \n"
   ]
  },
  {
   "cell_type": "markdown",
   "id": "ad457815",
   "metadata": {},
   "source": [
    "## 1. Tempo de Termalização"
   ]
  },
  {
   "cell_type": "markdown",
   "id": "d577be21",
   "metadata": {},
   "source": [
    "**a)** O código corre uma simulação para cada combinação de L e T e dá plot no gráfico da energia média."
   ]
  },
  {
   "cell_type": "code",
   "execution_count": null,
   "id": "fc4fc276",
   "metadata": {},
   "outputs": [],
   "source": [
    "L_array = [16, 32, 64, 128]\n",
    "T_array = [1, 2, 3, 4]\n",
    "ener_array = np.zeros(4)\n",
    "\n",
    "for L in L_array:\n",
    "    for T in T_array:\n",
    "        ising = IsingModel(L, T)\n",
    "        n_iter = np.linspace(1, 10, 9)\n",
    "        sims = ising.iter_monte_carlo(n_iter) #Correr a simulação para cada n_iter\n",
    "        avg_ener = (ising.energies/L) #Energia média\n",
    "        np.append(ener_array, avg_ener)\n",
    "\n",
    "        plt.figure(figsize=(10, 5))\n",
    "        plt.plot(n_iter, avg_ener, label=f'Simulação {L}-{T}', color='blue') \n",
    "        plt.title('Gráfico de Seno') \n",
    "        plt.xlabel('Eixo X') \n",
    "        plt.ylabel('Eixo Y') \n",
    "        plt.legend() \n",
    "        plt.grid() \n",
    "        plt.show()"
   ]
  },
  {
   "cell_type": "markdown",
   "id": "efa13c2d",
   "metadata": {},
   "source": [
    "**b)** Fit"
   ]
  },
  {
   "cell_type": "code",
   "execution_count": null,
   "id": "c2e44233",
   "metadata": {},
   "outputs": [],
   "source": [
    "def ener_func(N, e0, ef, tau):\n",
    "    return ef + (e0 - ef) * np.exp(- N/tau)\n",
    "\n",
    "vars = [curve_fit(ener_func, n_iter, ener_array[i]) for i in range(4)]"
   ]
  },
  {
   "cell_type": "code",
   "execution_count": null,
   "id": "8f2e9646",
   "metadata": {},
   "outputs": [],
   "source": [
    "taus = vars[2]\n",
    "\n",
    "fig = plt.figure(figsize=(10, 6))\n",
    "ax = fig.add_subplot(111, projection='3d')\n",
    "ax.plot_surface(L, T, taus, cmap='viridis', edgecolor='none')\n",
    "ax.set_xlabel('L')\n",
    "ax.set_ylabel('T')\n",
    "ax.set_zlabel(r'$\\tau_{term}$')\n",
    "ax.set_title('Intensidade da Luz em Função de X e Y')\n",
    "plt.show() # mostrando o gráfico\n"
   ]
  },
  {
   "cell_type": "markdown",
   "id": "7deccd52",
   "metadata": {},
   "source": [
    "## 2. Determinação da Temperatura Crítica"
   ]
  },
  {
   "cell_type": "markdown",
   "id": "21fbbf54",
   "metadata": {},
   "source": [
    "## 3. Determinação da Energia Livre de Helmholtz, F"
   ]
  }
 ],
 "metadata": {
  "kernelspec": {
   "display_name": "Python 3",
   "language": "python",
   "name": "python3"
  },
  "language_info": {
   "codemirror_mode": {
    "name": "ipython",
    "version": 3
   },
   "file_extension": ".py",
   "mimetype": "text/x-python",
   "name": "python",
   "nbconvert_exporter": "python",
   "pygments_lexer": "ipython3",
   "version": "3.11.9"
  }
 },
 "nbformat": 4,
 "nbformat_minor": 5
}
